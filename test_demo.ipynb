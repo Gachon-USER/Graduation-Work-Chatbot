{
 "cells": [
  {
   "cell_type": "code",
   "execution_count": 9,
   "metadata": {},
   "outputs": [
    {
     "ename": "AttributeError",
     "evalue": "'Organizer' object has no attribute 'raw_data_dir'",
     "output_type": "error",
     "traceback": [
      "\u001b[0;31m---------------------------------------------------------------------------\u001b[0m",
      "\u001b[0;31mAttributeError\u001b[0m                            Traceback (most recent call last)",
      "\u001b[1;32m/home/waganawa/문서/하계방학 졸업작품 진행./Python_kochat_re/test_demo.ipynb 셀 1\u001b[0m in \u001b[0;36m<cell line: 7>\u001b[0;34m()\u001b[0m\n\u001b[1;32m      <a href='vscode-notebook-cell:/home/waganawa/%EB%AC%B8%EC%84%9C/%ED%95%98%EA%B3%84%EB%B0%A9%ED%95%99%20%EC%A1%B8%EC%97%85%EC%9E%91%ED%92%88%20%EC%A7%84%ED%96%89./Python_kochat_re/test_demo.ipynb#W0sZmlsZQ%3D%3D?line=0'>1</a>\u001b[0m \u001b[39mfrom\u001b[39;00m \u001b[39mdataset\u001b[39;00m \u001b[39mimport\u001b[39;00m Dataset\n\u001b[1;32m      <a href='vscode-notebook-cell:/home/waganawa/%EB%AC%B8%EC%84%9C/%ED%95%98%EA%B3%84%EB%B0%A9%ED%95%99%20%EC%A1%B8%EC%97%85%EC%9E%91%ED%92%88%20%EC%A7%84%ED%96%89./Python_kochat_re/test_demo.ipynb#W0sZmlsZQ%3D%3D?line=2'>3</a>\u001b[0m \u001b[39m# from scenario import dust, weather, travel, restaurant\u001b[39;00m\n\u001b[1;32m      <a href='vscode-notebook-cell:/home/waganawa/%EB%AC%B8%EC%84%9C/%ED%95%98%EA%B3%84%EB%B0%A9%ED%95%99%20%EC%A1%B8%EC%97%85%EC%9E%91%ED%92%88%20%EC%A7%84%ED%96%89./Python_kochat_re/test_demo.ipynb#W0sZmlsZQ%3D%3D?line=3'>4</a>\u001b[0m \u001b[39m# 에러 나면 이걸로 실행해보세요!\u001b[39;00m\n\u001b[0;32m----> <a href='vscode-notebook-cell:/home/waganawa/%EB%AC%B8%EC%84%9C/%ED%95%98%EA%B3%84%EB%B0%A9%ED%95%99%20%EC%A1%B8%EC%97%85%EC%9E%91%ED%92%88%20%EC%A7%84%ED%96%89./Python_kochat_re/test_demo.ipynb#W0sZmlsZQ%3D%3D?line=6'>7</a>\u001b[0m dataset \u001b[39m=\u001b[39m Dataset()\n",
      "File \u001b[0;32m~/문서/하계방학 졸업작품 진행./Python_kochat_re/dataset.py:29\u001b[0m, in \u001b[0;36mDataset.__init__\u001b[0;34m(self, naver_fix)\u001b[0m\n\u001b[1;32m     26\u001b[0m \u001b[39mself\u001b[39m\u001b[39m.\u001b[39morg \u001b[39m=\u001b[39m Organizer()\n\u001b[1;32m     27\u001b[0m \u001b[39mself\u001b[39m\u001b[39m.\u001b[39mprep \u001b[39m=\u001b[39m Preprocessor(naver_fix\u001b[39m=\u001b[39mnaver_fix)\n\u001b[0;32m---> 29\u001b[0m \u001b[39mself\u001b[39m\u001b[39m.\u001b[39mintent_dict \u001b[39m=\u001b[39m \u001b[39mself\u001b[39;49m\u001b[39m.\u001b[39;49morg\u001b[39m.\u001b[39;49morganize_intent()\n\u001b[1;32m     30\u001b[0m \u001b[39mself\u001b[39m\u001b[39m.\u001b[39mentity_dict \u001b[39m=\u001b[39m \u001b[39mself\u001b[39m\u001b[39m.\u001b[39morg\u001b[39m.\u001b[39morganize_entity()\n",
      "File \u001b[0;32m~/문서/하계방학 졸업작품 진행./Python_kochat_re/organizer.py:23\u001b[0m, in \u001b[0;36mOrganizer.organize_intent\u001b[0;34m(self)\u001b[0m\n\u001b[1;32m     15\u001b[0m \u001b[39mdef\u001b[39;00m \u001b[39morganize_intent\u001b[39m(\u001b[39mself\u001b[39m) \u001b[39m-\u001b[39m\u001b[39m>\u001b[39m \u001b[39mdict\u001b[39m:\n\u001b[1;32m     16\u001b[0m     \u001b[39m\"\"\"\u001b[39;00m\n\u001b[1;32m     17\u001b[0m \u001b[39m    여러 파일을 모아서 하나의 인텐트 데이터 파일로 만듭니다.\u001b[39;00m\n\u001b[1;32m     18\u001b[0m \u001b[39m    파일 저장 이후에 학습에 사용되는 딕셔너리를 만들고 반환합니다.\u001b[39;00m\n\u001b[1;32m     19\u001b[0m \u001b[39m    :return: 인텐트 라벨들이 순차적으로 숫자로 맵핑된 Dictionary입니다.\u001b[39;00m\n\u001b[1;32m     20\u001b[0m \u001b[39m    (e.g. {날씨: 1, 맛집: 2, 미세먼지:3, ...})\u001b[39;00m\n\u001b[1;32m     21\u001b[0m \u001b[39m    \"\"\"\u001b[39;00m\n\u001b[0;32m---> 23\u001b[0m     files \u001b[39m=\u001b[39m os\u001b[39m.\u001b[39mlistdir(\u001b[39mself\u001b[39;49m\u001b[39m.\u001b[39;49mraw_data_dir)\n\u001b[1;32m     24\u001b[0m     \u001b[39m# 디렉토리에서 파일들의 리스트를 불러옴\u001b[39;00m\n\u001b[1;32m     26\u001b[0m     integrated_file \u001b[39m=\u001b[39m []\n",
      "\u001b[0;31mAttributeError\u001b[0m: 'Organizer' object has no attribute 'raw_data_dir'"
     ]
    }
   ],
   "source": [
    "from dataset import Dataset\n",
    "\n",
    "# from scenario import dust, weather, travel, restaurant\n",
    "# 에러 나면 이걸로 실행해보세요!\n",
    "\n",
    "\n",
    "dataset = Dataset()"
   ]
  },
  {
   "cell_type": "code",
   "execution_count": null,
   "metadata": {},
   "outputs": [],
   "source": [
    "dataset.intent_dict"
   ]
  },
  {
   "cell_type": "code",
   "execution_count": null,
   "metadata": {},
   "outputs": [],
   "source": [
    "dataset.entity_dict"
   ]
  }
 ],
 "metadata": {
  "kernelspec": {
   "display_name": "Python 3.10.5 64-bit",
   "language": "python",
   "name": "python3"
  },
  "language_info": {
   "codemirror_mode": {
    "name": "ipython",
    "version": 3
   },
   "file_extension": ".py",
   "mimetype": "text/x-python",
   "name": "python",
   "nbconvert_exporter": "python",
   "pygments_lexer": "ipython3",
   "version": "3.10.5"
  },
  "orig_nbformat": 4,
  "vscode": {
   "interpreter": {
    "hash": "e7370f93d1d0cde622a1f8e1c04877d8463912d04d973331ad4851f04de6915a"
   }
  }
 },
 "nbformat": 4,
 "nbformat_minor": 2
}
